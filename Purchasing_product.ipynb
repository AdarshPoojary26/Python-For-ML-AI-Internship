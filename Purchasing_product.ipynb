{
 "cells": [
  {
   "cell_type": "code",
   "execution_count": 38,
   "id": "792f45a3",
   "metadata": {},
   "outputs": [],
   "source": [
    "import json\n",
    "\n",
    "fd = open(\"record.json\",'r')\n",
    "r = fd.read()\n",
    "fd.close()\n",
    "\n",
    "records = json.loads(r)"
   ]
  },
  {
   "cell_type": "code",
   "execution_count": 39,
   "id": "6628c242",
   "metadata": {},
   "outputs": [
    {
     "data": {
      "text/plain": [
       "{'11001': {'Name': 'Apple',\n",
       "  'Price': 50,\n",
       "  'Quantity': 90,\n",
       "  'Expire date': '12 Oct 2021',\n",
       "  'Description': 'Fruit'},\n",
       " '11002': {'Name': 'Banana',\n",
       "  'Price': 10,\n",
       "  'Quantity': 90,\n",
       "  'Expire date': '1 Oct 2021',\n",
       "  'Description': 'Fruit'},\n",
       " '11003': {'Name': 'Grape',\n",
       "  'Price': 40,\n",
       "  'Quantity': 40,\n",
       "  'Expire date': '2 Oct 2021',\n",
       "  'Description': 'Fruit'},\n",
       " '11004': {'Name': 'Pear',\n",
       "  'Price': 40,\n",
       "  'Quantity': 20,\n",
       "  'Expire date': '3 Oct 2021',\n",
       "  'Description': 'Fruit'},\n",
       " '11005': {'Name': 'Oranges',\n",
       "  'Price': 15,\n",
       "  'Quantity': 129,\n",
       "  'Expire date': '4 Oct 2021 ',\n",
       "  'Description': 'Fruit'},\n",
       " '11006': {'Name': 'Melon',\n",
       "  'Price': 35,\n",
       "  'Quantity': 14,\n",
       "  'Expire date': '5 Oct 2021',\n",
       "  'Description': 'Fruit'},\n",
       " '11007': {'Name': 'Lemon',\n",
       "  'Price': 24,\n",
       "  'Quantity': 28,\n",
       "  'Expire date': '6 Oct 2021',\n",
       "  'Description': 'fruit'},\n",
       " '11008': {'Name': 'Milk',\n",
       "  'Price': 30,\n",
       "  'Quantity': 50,\n",
       "  'Expire date': '30 Sept 2021',\n",
       "  'Description': 'Dairy'},\n",
       " '11009': {'Name': 'Salt',\n",
       "  'Price': 55,\n",
       "  'Quantity': 180,\n",
       "  'Expire date': '10 Nov 2021',\n",
       "  'Description': 'Spices'},\n",
       " '11010': {'Name': 'Pepper',\n",
       "  'Price': 20,\n",
       "  'Quantity': 30,\n",
       "  'Expire date': '1 Nov 2021',\n",
       "  'Description': 'Spices'},\n",
       " '11011': {'Name': 'Yougart',\n",
       "  'Price': 23,\n",
       "  'Quantity': 45,\n",
       "  'Expire date': '1 Oct 2021',\n",
       "  'Description': 'Dairy'},\n",
       " '11012': {'Name': 'Eggs',\n",
       "  'Price': 5,\n",
       "  'Quantity': 50,\n",
       "  'Expire date': '28 Sept 2021',\n",
       "  'Description': 'Dairy'},\n",
       " '11013': {'Name': 'Butter',\n",
       "  'Price': 19,\n",
       "  'Quantity': 47,\n",
       "  'Expire date': '25 Sept 2021',\n",
       "  'Description': 'Dairy'},\n",
       " '11014': {'Name': 'Broccoli',\n",
       "  'Price': 30,\n",
       "  'Quantity': 53,\n",
       "  'Expire date': '1 Oct 2021',\n",
       "  'Description': 'Vegetable'},\n",
       " '11015': {'Name': 'Carrot',\n",
       "  'Price': 40,\n",
       "  'Quantity': 23,\n",
       "  'Expire date': '3 Oct 2021',\n",
       "  'Description': 'Vegetable'},\n",
       " '11016': {'Name': 'Cucumber',\n",
       "  'Price': 5,\n",
       "  'Quantity': 70,\n",
       "  'Expire date': '4 Oct 2021',\n",
       "  'Description': 'Vegetable'},\n",
       " '11017': {'Name': 'garlic',\n",
       "  'Price': 3,\n",
       "  'Quantity': 30,\n",
       "  'Expire date': '5 Oct 2021',\n",
       "  'Description': 'Vegetable'},\n",
       " '11018': {'Name': 'Tomato',\n",
       "  'Price': 12,\n",
       "  'Quantity': 29,\n",
       "  'Expire date': '5 Oct 2021',\n",
       "  'Description': 'Vegetable'},\n",
       " '11019': {'Name': 'Potato',\n",
       "  'Price': 14,\n",
       "  'Quantity': 75,\n",
       "  'Expire date': '7 Oct 2021',\n",
       "  'Description': 'Vegetable'},\n",
       " '11020': {'Name': 'Onion',\n",
       "  'Price': 13,\n",
       "  'Quantity': 45,\n",
       "  'Expire date': '5 Oct 2021',\n",
       "  'Description': 'Vegetable'},\n",
       " '11021': {'Name': 'Water',\n",
       "  'Price': 35,\n",
       "  'Quantity': 50,\n",
       "  'Expire date': '6 Oct 2021',\n",
       "  'Description': 'Drink'},\n",
       " '11022': {'Name': 'Coke',\n",
       "  'Price': 25,\n",
       "  'Quantity': 35,\n",
       "  'Expire date': '7 Oct 2021',\n",
       "  'Description': 'Drink'},\n",
       " '11023': {'Name': 'Coffee',\n",
       "  'Price': 15,\n",
       "  'Quantity': 150,\n",
       "  'Expire date': '6 Oct 2021',\n",
       "  'Description': 'Drink'},\n",
       " '11024': {'Name': 'Mouse',\n",
       "  'Price': 450,\n",
       "  'Quantity': 696,\n",
       "  'Expire date': 'None',\n",
       "  'Description': 'Electronics Item'},\n",
       " '11025': {'Name': 'Keyboard',\n",
       "  'Price': 600,\n",
       "  'Quantity': 90,\n",
       "  'Expire date': 'None',\n",
       "  'Description': 'Electronics Item'},\n",
       " '11026': {'Name': 'Monitor',\n",
       "  'Price': 1500,\n",
       "  'Quantity': 40,\n",
       "  'Expire date': 'None ',\n",
       "  'Description': 'Electronics Item'},\n",
       " '11027': {'Name': 'Tv',\n",
       "  'Price': 25000,\n",
       "  'Quantity': 35,\n",
       "  'Expire date': 'None',\n",
       "  'Description': 'Electronics Item'},\n",
       " '11028': {'Name': 'Refrigerator',\n",
       "  'Price': 50000,\n",
       "  'Quantity': 70,\n",
       "  'Expire date': 'None ',\n",
       "  'Description': 'Electronics Item'},\n",
       " '11029': {'Name': 'Toaster',\n",
       "  'Price': 4500,\n",
       "  'Quantity': 150,\n",
       "  'Expire date': 'None',\n",
       "  'Description': 'Electronics Item'},\n",
       " '11030': {'Name': 'Air Conditioner',\n",
       "  'Price': 60000,\n",
       "  'Quantity': -16,\n",
       "  'Expire date': 'None',\n",
       "  'Description': 'Electronics Item'},\n",
       " '11031': {'Name': 'Table',\n",
       "  'Price': 1000,\n",
       "  'Quantity': 50,\n",
       "  'Expire date': 'None',\n",
       "  'Description': 'Wooden Item'},\n",
       " '11032': {'Name': 'Chair',\n",
       "  'Price': 500,\n",
       "  'Quantity': 40,\n",
       "  'Expire date': 'None',\n",
       "  'Description': 'Wooden Item'},\n",
       " '11033': {'Name': 'Speaker',\n",
       "  'Price': 1700,\n",
       "  'Quantity': 170,\n",
       "  'Expire date': 'None',\n",
       "  'Description': 'Electronics Item'},\n",
       " '11034': {'Name': 'Notebook',\n",
       "  'Price': 30,\n",
       "  'Quantity': 40,\n",
       "  'Expire date': 'None',\n",
       "  'Description': 'Stationary Item'},\n",
       " '11035': {'Name': 'Laptop',\n",
       "  'Price': 80000,\n",
       "  'Quantity': 80,\n",
       "  'Expire date': 'None',\n",
       "  'Description': 'Electronics Item'},\n",
       " '11036': {'Name': 'Soap',\n",
       "  'Price': 55,\n",
       "  'Quantity': 75,\n",
       "  'Expire date': '10 Feb 2021',\n",
       "  'Description': 'Cosmetic Item'},\n",
       " '11037': {'Name': 'Shampoo',\n",
       "  'Price': 130,\n",
       "  'Quantity': 100,\n",
       "  'Expire date': '10 Dec  2021',\n",
       "  'Description': 'Cosmetic Item'},\n",
       " '1038': {'Name': 'Fork',\n",
       "  'Product price': 16,\n",
       "  'Quantity': 50,\n",
       "  'Expire_date': 'None',\n",
       "  'Description': 'Kitchen Item'}}"
      ]
     },
     "execution_count": 39,
     "metadata": {},
     "output_type": "execute_result"
    }
   ],
   "source": [
    "records"
   ]
  },
  {
   "cell_type": "markdown",
   "id": "5fe455f5",
   "metadata": {},
   "source": [
    "# Purchasing"
   ]
  },
  {
   "cell_type": "code",
   "execution_count": 50,
   "id": "a3b53278",
   "metadata": {},
   "outputs": [
    {
     "name": "stdout",
     "output_type": "stream",
     "text": [
      "Enter the product Id: 11024\n",
      "Enter the quantity: 40\n",
      "\n",
      "\n",
      "\n",
      "\n",
      "                    BILL                           \n",
      "***************************************************\n",
      "Product           :  Mouse\n",
      "Price             :  450\n",
      "Quantity          :  696\n",
      "Expire date       :  None\n",
      "Description       :  Electronics Item\n",
      "----------------------------------------------------\n",
      "Billing Amount:  18000\n",
      "----------------------------------------------------\n"
     ]
    }
   ],
   "source": [
    "ui_prod  = str(input(\"Enter the product Id: \"))\n",
    "ui_quant = int(input(\"Enter the quantity: \"))\n",
    "\n",
    "\n",
    "print(\"\\n\")\n",
    "print(\"\\n\")\n",
    "print(\"                    BILL                           \")\n",
    "print(\"***************************************************\")\n",
    "print(\"Product           : \", records[ui_prod]['Name'])\n",
    "print(\"Price             : \", records[ui_prod]['Price'])\n",
    "if ui_quant > records[ui_prod]['Quantity'] :\n",
    "    print(\"Quantity          :  We Have Only This Much Of Products  :- {}\".format(records[ui_prod]['Quantity']))\n",
    "else:\n",
    "    print(\"Quantity          : \", records[ui_prod]['Quantity'])\n",
    "print(\"Expire date       : \", records[ui_prod]['Expire date'])\n",
    "print(\"Description       : \", records[ui_prod]['Description'])\n",
    "print(\"----------------------------------------------------\")\n",
    "print(\"Billing Amount: \", records[ui_prod]['Price']* ui_quant)\n",
    "print(\"----------------------------------------------------\")\n",
    "\n",
    "\n",
    "records[ui_prod]['Quantity'] = records[ui_prod]['Quantity'] - ui_quant"
   ]
  },
  {
   "cell_type": "markdown",
   "id": "da164c40",
   "metadata": {},
   "source": [
    "# Update inventory after purchase"
   ]
  },
  {
   "cell_type": "code",
   "execution_count": 51,
   "id": "6604aaae",
   "metadata": {},
   "outputs": [],
   "source": [
    "js = json.dumps(records)\n",
    "\n",
    "\n",
    "fd = open(\"record.json\",'w')\n",
    "fd.write(js)\n",
    "fd.close()"
   ]
  },
  {
   "cell_type": "markdown",
   "id": "d6cff7fe",
   "metadata": {},
   "source": [
    "# Sales json"
   ]
  },
  {
   "cell_type": "code",
   "execution_count": 52,
   "id": "8b73f226",
   "metadata": {},
   "outputs": [],
   "source": [
    "import time\n",
    "sales = {1:{\"Product id:\":ui_prod, \"Quantity:\":ui_quant, \"Amount:\":records[ui_prod]['Price']* ui_quant,\"Time:\":time.ctime()}}"
   ]
  },
  {
   "cell_type": "code",
   "execution_count": 53,
   "id": "db6ef443",
   "metadata": {},
   "outputs": [
    {
     "data": {
      "text/plain": [
       "{1: {'Product id:': '11024',\n",
       "  'Quantity:': 40,\n",
       "  'Amount:': 18000,\n",
       "  'Time:': 'Mon Sep  6 21:00:11 2021'}}"
      ]
     },
     "execution_count": 53,
     "metadata": {},
     "output_type": "execute_result"
    }
   ],
   "source": [
    "sales"
   ]
  },
  {
   "cell_type": "markdown",
   "id": "76e0e740",
   "metadata": {},
   "source": [
    "# Adding product to sales file, execute from here"
   ]
  },
  {
   "cell_type": "code",
   "execution_count": 54,
   "id": "fb26573d",
   "metadata": {},
   "outputs": [],
   "source": [
    "sales[(len(sales)+1)]= {\"Product id:\":ui_prod, \"Quantity:\":ui_quant, \"Amount:\":records[ui_prod]['Price']* ui_quant,\"Time:\":time.ctime()}"
   ]
  },
  {
   "cell_type": "code",
   "execution_count": 55,
   "id": "50d1daf6",
   "metadata": {},
   "outputs": [
    {
     "data": {
      "text/plain": [
       "{1: {'Product id:': '11024',\n",
       "  'Quantity:': 40,\n",
       "  'Amount:': 18000,\n",
       "  'Time:': 'Mon Sep  6 21:00:11 2021'},\n",
       " 2: {'Product id:': '11024',\n",
       "  'Quantity:': 40,\n",
       "  'Amount:': 18000,\n",
       "  'Time:': 'Mon Sep  6 21:00:16 2021'}}"
      ]
     },
     "execution_count": 55,
     "metadata": {},
     "output_type": "execute_result"
    }
   ],
   "source": [
    "sales"
   ]
  },
  {
   "cell_type": "code",
   "execution_count": 56,
   "id": "74ed8ada",
   "metadata": {},
   "outputs": [],
   "source": [
    "sale = json.dumps(sales)"
   ]
  },
  {
   "cell_type": "code",
   "execution_count": 57,
   "id": "c9372043",
   "metadata": {},
   "outputs": [],
   "source": [
    "fd = open(\"sales.json\",'w')\n",
    "r = fd.write(sale)\n",
    "fd.close()"
   ]
  },
  {
   "cell_type": "code",
   "execution_count": 58,
   "id": "04c40135",
   "metadata": {},
   "outputs": [],
   "source": [
    "fd = open(\"sales.json\",'r')\n",
    "r = fd.read()\n",
    "fd.close()"
   ]
  },
  {
   "cell_type": "code",
   "execution_count": 59,
   "id": "06874d9a",
   "metadata": {},
   "outputs": [
    {
     "data": {
      "text/plain": [
       "'{\"1\": {\"Product id:\": \"11024\", \"Quantity:\": 40, \"Amount:\": 18000, \"Time:\": \"Mon Sep  6 21:00:11 2021\"}, \"2\": {\"Product id:\": \"11024\", \"Quantity:\": 40, \"Amount:\": 18000, \"Time:\": \"Mon Sep  6 21:00:16 2021\"}}'"
      ]
     },
     "execution_count": 59,
     "metadata": {},
     "output_type": "execute_result"
    }
   ],
   "source": [
    "r"
   ]
  }
 ],
 "metadata": {
  "kernelspec": {
   "display_name": "Python 3",
   "language": "python",
   "name": "python3"
  },
  "language_info": {
   "codemirror_mode": {
    "name": "ipython",
    "version": 3
   },
   "file_extension": ".py",
   "mimetype": "text/x-python",
   "name": "python",
   "nbconvert_exporter": "python",
   "pygments_lexer": "ipython3",
   "version": "3.8.8"
  }
 },
 "nbformat": 4,
 "nbformat_minor": 5
}
